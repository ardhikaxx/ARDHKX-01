{
  "nbformat": 4,
  "nbformat_minor": 0,
  "metadata": {
    "colab": {
      "provenance": [],
      "authorship_tag": "ABX9TyOx3h5h96Us52LDvOUiEXQh",
      "include_colab_link": true
    },
    "kernelspec": {
      "name": "python3",
      "display_name": "Python 3"
    },
    "language_info": {
      "name": "python"
    }
  },
  "cells": [
    {
      "cell_type": "markdown",
      "metadata": {
        "id": "view-in-github",
        "colab_type": "text"
      },
      "source": [
        "<a href=\"https://colab.research.google.com/github/ardhikaxx/ARDHKX-01/blob/main/sistem_pakar.ipynb\" target=\"_parent\"><img src=\"https://colab.research.google.com/assets/colab-badge.svg\" alt=\"Open In Colab\"/></a>"
      ]
    },
    {
      "cell_type": "code",
      "execution_count": null,
      "metadata": {
        "id": "UENsSB2tronz",
        "colab": {
          "base_uri": "https://localhost:8080/"
        },
        "outputId": "f91d44a5-fec7-4470-81ea-e0126698090f"
      },
      "outputs": [
        {
          "output_type": "stream",
          "name": "stdout",
          "text": [
            "Similarity values for each case:\n",
            "Diagnosis: Flu, Similarity: 0\n",
            "Diagnosis: Demam Berdarah, Similarity: 1\n",
            "Diagnosis: Malaria, Similarity: 1\n",
            "Diagnosis: Hepatitis, Similarity: 3\n",
            "Diagnosis: Hepatitis\n"
          ]
        }
      ],
      "source": [
        "knowledge_base = [\n",
        "  {\n",
        "    \"id\": 1,\n",
        "    \"gejala\": [\"demam\", \"batuk\", \"sakit tenggorokan\", \"letih\"],\n",
        "    \"diagnosa\": \"Flu\"\n",
        "  },\n",
        "  {\n",
        "    \"id\": 2,\n",
        "    \"gejala\": [\"demam\", \"sakit kepala\", \"nyeri otot\", \"ruam\"],\n",
        "    \"diagnosa\": \"Demam Berdarah\"\n",
        "  },\n",
        "  {\n",
        "    \"id\": 3,\n",
        "    \"gejala\": [\"demam\", \"menggigil\", \"berkeringat\", \"mual\"],\n",
        "    \"diagnosa\": \"Malaria\"\n",
        "  },\n",
        "  {\n",
        "    \"id\": 4,\n",
        "    \"gejala\": [\"demam\", \"mual\", \"mata kuning\", \"pusing\"],\n",
        "    \"diagnosa\": \"Hepatitis\"\n",
        "  }\n",
        "]\n",
        "\n",
        "def calculate_similarity(gejala_baru, gejala_kasus):\n",
        "    return len(set(gejala_baru).intersection(set(gejala_kasus)))\n",
        "\n",
        "def diagnose_disease(gejala_baru):\n",
        "    best_match = None\n",
        "    highest_similarity = 0\n",
        "    similarities = []\n",
        "\n",
        "    for case in knowledge_base:\n",
        "        similarity = calculate_similarity(gejala_baru, case[\"gejala\"])\n",
        "        similarities.append((case[\"diagnosa\"], similarity))\n",
        "        if similarity > highest_similarity:\n",
        "            highest_similarity = similarity\n",
        "            best_match = case\n",
        "\n",
        "    print(\"Similarity values for each case:\")\n",
        "    for diagnosa, similarity in similarities:\n",
        "        print(f\"Diagnosis: {diagnosa}, Similarity: {similarity}\")\n",
        "\n",
        "    if best_match:\n",
        "        return best_match[\"diagnosa\"]\n",
        "    else:\n",
        "        return \"Tidak ditemukan kasus yang cocok\"\n",
        "\n",
        "gejala_baru = [\"mual\", \"mata kuning\", \"nyeri otot\", \"pusing\"]\n",
        "\n",
        "diagnosa = diagnose_disease(gejala_baru)\n",
        "print(f\"Diagnosis: {diagnosa}\")"
      ]
    }
  ]
}